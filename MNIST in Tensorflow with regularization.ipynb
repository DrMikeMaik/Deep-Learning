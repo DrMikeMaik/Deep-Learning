{
 "cells": [
  {
   "cell_type": "code",
   "execution_count": 1,
   "metadata": {},
   "outputs": [
    {
     "name": "stderr",
     "output_type": "stream",
     "text": [
      "/Users/michal/anaconda/lib/python3.6/site-packages/h5py/__init__.py:34: FutureWarning: Conversion of the second argument of issubdtype from `float` to `np.floating` is deprecated. In future, it will be treated as `np.float64 == np.dtype(float).type`.\n",
      "  from ._conv import register_converters as _register_converters\n"
     ]
    }
   ],
   "source": [
    "import numpy as np\n",
    "import pandas as pd\n",
    "import matplotlib.pyplot as plt\n",
    "import tensorflow as tf\n",
    "from sklearn.utils import shuffle"
   ]
  },
  {
   "cell_type": "code",
   "execution_count": 2,
   "metadata": {
    "collapsed": true
   },
   "outputs": [],
   "source": [
    "df_train = pd.read_csv('./train.csv')"
   ]
  },
  {
   "cell_type": "code",
   "execution_count": 3,
   "metadata": {
    "collapsed": true
   },
   "outputs": [],
   "source": [
    "def error_rate(pred, target):\n",
    "    return np.mean(pred!=target)"
   ]
  },
  {
   "cell_type": "code",
   "execution_count": 4,
   "metadata": {
    "collapsed": true
   },
   "outputs": [],
   "source": [
    "def classification_rate(p, t):\n",
    "    return np.mean(p == t)"
   ]
  },
  {
   "cell_type": "code",
   "execution_count": 5,
   "metadata": {
    "collapsed": true
   },
   "outputs": [],
   "source": [
    "def ohe(labels):\n",
    "    ohe_lab = np.zeros((labels.shape[0], len(set(labels))))\n",
    "    for i in range(len(labels)):\n",
    "        ohe_lab[i, labels[i]] = 1\n",
    "    return ohe_lab     "
   ]
  },
  {
   "cell_type": "code",
   "execution_count": 6,
   "metadata": {
    "collapsed": true
   },
   "outputs": [],
   "source": [
    "X = df_train.drop('label', axis=1)/255\n",
    "Y = pd.DataFrame(ohe(df_train['label']))"
   ]
  },
  {
   "cell_type": "code",
   "execution_count": 7,
   "metadata": {},
   "outputs": [
    {
     "name": "stdout",
     "output_type": "stream",
     "text": [
      "(42000, 784)\n",
      "<class 'pandas.core.frame.DataFrame'>\n",
      "(42000, 10)\n",
      "<class 'pandas.core.frame.DataFrame'>\n"
     ]
    }
   ],
   "source": [
    "print(X.shape)\n",
    "print(type(X))\n",
    "print(Y.shape)\n",
    "print(type(Y))"
   ]
  },
  {
   "cell_type": "code",
   "execution_count": 8,
   "metadata": {
    "collapsed": true
   },
   "outputs": [],
   "source": [
    "max_iter = 20\n",
    "print_period = 10\n",
    "lr = 0.00004\n",
    "reg = 0.01"
   ]
  },
  {
   "cell_type": "code",
   "execution_count": 9,
   "metadata": {
    "collapsed": true
   },
   "outputs": [],
   "source": [
    "X_train = X[:-1000]\n",
    "Y_train = Y[:-1000]\n",
    "X_test = X[-1000:]\n",
    "Y_test = Y[-1000:]"
   ]
  },
  {
   "cell_type": "code",
   "execution_count": 10,
   "metadata": {
    "collapsed": true
   },
   "outputs": [],
   "source": [
    "N, D = X_train.shape\n",
    "batch_size = 500\n",
    "num_batches = N//batch_size"
   ]
  },
  {
   "cell_type": "code",
   "execution_count": 11,
   "metadata": {
    "collapsed": true
   },
   "outputs": [],
   "source": [
    "# hidden layer1 nodes\n",
    "M1 = 300\n",
    "# hidden layer2 nodes\n",
    "M2 = 100\n",
    "# output nodes\n",
    "K = 10\n",
    "# starting wieghts\n",
    "W1_init = np.random.randn(D, M1) / np.sqrt(D+M1)\n",
    "b1_init = np.zeros(M1)\n",
    "W2_init = np.random.randn(M1, M2) / np.sqrt(M1+M2)\n",
    "b2_init = np.zeros(M2)\n",
    "W3_init = np.random.randn(M2, K) / np.sqrt(M2+K)\n",
    "b3_init = np.zeros(K)"
   ]
  },
  {
   "cell_type": "code",
   "execution_count": 12,
   "metadata": {
    "collapsed": true
   },
   "outputs": [],
   "source": [
    "# get TF variables for the inputs, X and targets T\n",
    "ftX = tf.placeholder(tf.float32, shape=(None, D), name='X')\n",
    "ftT = tf.placeholder(tf.float32, shape=(None, K), name='T')"
   ]
  },
  {
   "cell_type": "code",
   "execution_count": 13,
   "metadata": {
    "collapsed": true
   },
   "outputs": [],
   "source": [
    "# get TF variables wieghts and biases\n",
    "W1 = tf.Variable(W1_init.astype(np.float32))\n",
    "b1 = tf.Variable(b1_init.astype(np.float32))\n",
    "W2 = tf.Variable(W2_init.astype(np.float32))\n",
    "b2 = tf.Variable(b2_init.astype(np.float32))\n",
    "W3 = tf.Variable(W3_init.astype(np.float32))\n",
    "b3 = tf.Variable(b3_init.astype(np.float32))"
   ]
  },
  {
   "cell_type": "code",
   "execution_count": 14,
   "metadata": {},
   "outputs": [],
   "source": [
    "Z1 = tf.nn.relu(tf.matmul(ftX, W1)+b1)\n",
    "Z2 = tf.nn.relu(tf.matmul(Z1, W2)+b2)\n",
    "Yish = tf.matmul(Z2, W3)+b3"
   ]
  },
  {
   "cell_type": "code",
   "execution_count": 15,
   "metadata": {},
   "outputs": [],
   "source": [
    "rcost = reg*sum([tf.nn.l2_loss(W1), tf.nn.l2_loss(b1), \n",
    "                 tf.nn.l2_loss(W2), tf.nn.l2_loss(b2), \n",
    "                 tf.nn.l2_loss(W3), tf.nn.l2_loss(b3)])\n",
    "cost = tf.reduce_sum(tf.nn.softmax_cross_entropy_with_logits_v2(labels=ftT, logits=Yish)) + rcost"
   ]
  },
  {
   "cell_type": "code",
   "execution_count": 16,
   "metadata": {
    "collapsed": true
   },
   "outputs": [],
   "source": [
    "train_op = tf.train.RMSPropOptimizer(lr, decay=0.99, momentum=0.9).minimize(cost)"
   ]
  },
  {
   "cell_type": "code",
   "execution_count": 17,
   "metadata": {
    "collapsed": true
   },
   "outputs": [],
   "source": [
    "pred = tf.argmax(Yish, 1)"
   ]
  },
  {
   "cell_type": "code",
   "execution_count": 25,
   "metadata": {},
   "outputs": [
    {
     "name": "stdout",
     "output_type": "stream",
     "text": [
      "0 0 2311.8806 0.916\n",
      "0 10 2133.2778 0.45\n",
      "0 20 1789.5221 0.346\n",
      "0 30 1304.7751 0.271\n",
      "0 40 925.9786 0.217\n",
      "0 50 717.5182 0.18\n",
      "0 60 611.37 0.165\n",
      "0 70 543.2096 0.148\n",
      "0 80 485.69858 0.125\n",
      "1 0 480.46283 0.126\n",
      "1 10 442.52713 0.115\n",
      "1 20 418.58627 0.111\n",
      "1 30 400.26276 0.105\n",
      "1 40 376.41776 0.1\n",
      "1 50 359.38373 0.101\n",
      "1 60 352.77335 0.096\n",
      "1 70 341.8551 0.092\n",
      "1 80 332.37762 0.096\n",
      "2 0 332.65524 0.094\n",
      "2 10 321.33188 0.091\n",
      "2 20 311.4926 0.087\n",
      "2 30 309.7665 0.09\n",
      "2 40 296.0313 0.082\n",
      "2 50 288.97427 0.092\n",
      "2 60 288.119 0.085\n",
      "2 70 281.838 0.085\n",
      "2 80 276.74625 0.082\n",
      "3 0 278.62488 0.079\n",
      "3 10 270.82367 0.079\n",
      "3 20 262.38275 0.072\n",
      "3 30 263.97894 0.081\n",
      "3 40 251.60301 0.072\n",
      "3 50 247.64487 0.074\n",
      "3 60 246.28233 0.072\n",
      "3 70 241.19214 0.073\n",
      "3 80 237.05663 0.067\n",
      "4 0 239.6391 0.071\n",
      "4 10 233.96574 0.072\n",
      "4 20 226.75636 0.065\n",
      "4 30 228.3309 0.07\n",
      "4 40 216.35957 0.06\n",
      "4 50 215.34416 0.06\n",
      "4 60 212.67366 0.064\n",
      "4 70 209.87848 0.061\n",
      "4 80 204.96611 0.057\n",
      "5 0 207.3517 0.062\n",
      "5 10 203.39961 0.06\n",
      "5 20 197.87479 0.054\n",
      "5 30 196.66588 0.06\n",
      "5 40 187.506 0.054\n",
      "5 50 189.09021 0.056\n",
      "5 60 185.83046 0.055\n",
      "5 70 186.63216 0.055\n",
      "5 80 179.90668 0.053\n",
      "6 0 181.52907 0.055\n",
      "6 10 179.68823 0.049\n",
      "6 20 175.69797 0.048\n",
      "6 30 171.44527 0.045\n",
      "6 40 165.01456 0.047\n",
      "6 50 168.48279 0.05\n",
      "6 60 165.39964 0.049\n",
      "6 70 168.91713 0.05\n",
      "6 80 160.51357 0.048\n",
      "7 0 160.59491 0.048\n",
      "7 10 161.91953 0.047\n",
      "7 20 157.69022 0.045\n",
      "7 30 152.86198 0.045\n",
      "7 40 148.13977 0.042\n",
      "7 50 151.98663 0.046\n",
      "7 60 149.74658 0.045\n",
      "7 70 154.48389 0.047\n",
      "7 80 146.528 0.043\n",
      "8 0 145.54076 0.043\n",
      "8 10 149.91765 0.046\n",
      "8 20 143.70218 0.042\n",
      "8 30 139.30402 0.043\n",
      "8 40 135.25162 0.043\n",
      "8 50 139.10886 0.043\n",
      "8 60 137.86162 0.04\n",
      "8 70 142.884 0.043\n",
      "8 80 135.38951 0.042\n",
      "9 0 134.00821 0.038\n",
      "9 10 140.60823 0.043\n",
      "9 20 132.1188 0.041\n",
      "9 30 128.60808 0.043\n",
      "9 40 124.84275 0.041\n",
      "9 50 129.06024 0.04\n",
      "9 60 128.37445 0.038\n",
      "9 70 132.99954 0.038\n",
      "9 80 126.67573 0.039\n",
      "10 0 125.46737 0.039\n",
      "10 10 132.94551 0.041\n",
      "10 20 123.03564 0.041\n",
      "10 30 120.65354 0.038\n",
      "10 40 116.55608 0.04\n",
      "10 50 121.22016 0.039\n",
      "10 60 121.1618 0.036\n",
      "10 70 125.389465 0.036\n",
      "10 80 119.57315 0.037\n",
      "11 0 118.800285 0.037\n",
      "11 10 126.753365 0.038\n",
      "11 20 115.67703 0.04\n",
      "11 30 114.17681 0.036\n",
      "11 40 109.71266 0.035\n",
      "11 50 114.72787 0.037\n",
      "11 60 115.37441 0.035\n",
      "11 70 118.60716 0.035\n",
      "11 80 114.09713 0.035\n",
      "12 0 113.693794 0.036\n",
      "12 10 122.07235 0.038\n",
      "12 20 109.23875 0.038\n",
      "12 30 109.28165 0.034\n",
      "12 40 104.04472 0.032\n",
      "12 50 109.41244 0.035\n",
      "12 60 110.587585 0.033\n",
      "12 70 113.29239 0.035\n",
      "12 80 109.29275 0.032\n",
      "13 0 109.28745 0.035\n",
      "13 10 118.17528 0.036\n",
      "13 20 103.918076 0.033\n",
      "13 30 104.78784 0.033\n",
      "13 40 98.93531 0.031\n",
      "13 50 104.101814 0.034\n",
      "13 60 106.79299 0.031\n",
      "13 70 109.06507 0.033\n",
      "13 80 106.12212 0.032\n",
      "14 0 106.54543 0.033\n",
      "14 10 115.63115 0.033\n",
      "14 20 100.39311 0.03\n",
      "14 30 101.705574 0.033\n",
      "14 40 95.44218 0.027\n",
      "14 50 100.75059 0.032\n",
      "14 60 103.778625 0.03\n",
      "14 70 105.627945 0.033\n",
      "14 80 103.22176 0.031\n",
      "15 0 104.231636 0.031\n",
      "15 10 113.42098 0.033\n",
      "15 20 97.70535 0.028\n",
      "15 30 99.05718 0.033\n",
      "15 40 92.43787 0.027\n",
      "15 50 97.90514 0.032\n",
      "15 60 101.57501 0.029\n",
      "15 70 103.44823 0.031\n",
      "15 80 101.2598 0.029\n",
      "16 0 102.21648 0.032\n",
      "16 10 111.74091 0.031\n",
      "16 20 95.777756 0.026\n",
      "16 30 96.99268 0.031\n",
      "16 40 90.14924 0.027\n",
      "16 50 95.756714 0.03\n",
      "16 60 99.651405 0.027\n",
      "16 70 102.153694 0.031\n",
      "16 80 99.21691 0.029\n",
      "17 0 100.40205 0.032\n",
      "17 10 110.62506 0.03\n",
      "17 20 94.47223 0.026\n",
      "17 30 95.24779 0.028\n",
      "17 40 88.44747 0.026\n",
      "17 50 94.438126 0.027\n",
      "17 60 98.75445 0.027\n",
      "17 70 101.87691 0.03\n",
      "17 80 97.70037 0.028\n",
      "18 0 98.76895 0.031\n",
      "18 10 109.60157 0.03\n",
      "18 20 93.72488 0.027\n",
      "18 30 93.867966 0.029\n",
      "18 40 87.7997 0.025\n",
      "18 50 93.957245 0.026\n",
      "18 60 98.65099 0.028\n",
      "18 70 102.39262 0.028\n",
      "18 80 97.42195 0.027\n",
      "19 0 98.52608 0.029\n",
      "19 10 109.82608 0.031\n",
      "19 20 93.7422 0.025\n",
      "19 30 92.79235 0.027\n",
      "19 40 87.44993 0.026\n",
      "19 50 93.783356 0.027\n",
      "19 60 98.49132 0.028\n",
      "19 70 102.27298 0.028\n",
      "19 80 96.99506 0.025\n"
     ]
    }
   ],
   "source": [
    "LL = []\n",
    "error = []\n",
    "init = tf.global_variables_initializer()\n",
    "with tf.Session() as sess:\n",
    "    sess.run(init)\n",
    "    for i in range(max_iter):\n",
    "#         X_train, Y_train = shuffle(X_train, Y_train)\n",
    "        for j in range(num_batches):\n",
    "            X_batch = X_train[(j*batch_size):(j*batch_size+batch_size)]\n",
    "            Y_batch = Y_train[(j*batch_size):(j*batch_size+batch_size)]\n",
    "        \n",
    "            sess.run(train_op, feed_dict = {ftX: X_batch, ftT: Y_batch})\n",
    "            if j % print_period == 0:\n",
    "                cost_val = sess.run(cost, feed_dict={ftX: X_test, ftT: Y_test})\n",
    "                pred_val = sess.run(pred, feed_dict={ftX: X_test})\n",
    "                err = error_rate(pred_val, Y_test.idxmax(axis = 1))\n",
    "                print(i,j,cost_val,err)\n",
    "                LL.append(cost_val)\n",
    "                error.append(err)"
   ]
  },
  {
   "cell_type": "code",
   "execution_count": 26,
   "metadata": {},
   "outputs": [
    {
     "data": {
      "image/png": "[encoded data removed]",
      "text/plain": [
       "<matplotlib.figure.Figure at 0x10f94d9e8>"
      ]
     },
     "metadata": {},
     "output_type": "display_data"
    }
   ],
   "source": [
    "plt.plot(LL)\n",
    "plt.show()"
   ]
  },
  {
   "cell_type": "code",
   "execution_count": 27,
   "metadata": {},
   "outputs": [
    {
     "data": {
      "image/png": "[encoded data removed]",
      "text/plain": [
       "<matplotlib.figure.Figure at 0x10f8d4400>"
      ]
     },
     "metadata": {},
     "output_type": "display_data"
    }
   ],
   "source": [
    "plt.plot(error)\n",
    "plt.show()"
   ]
  },
  {
   "cell_type": "code",
   "execution_count": 28,
   "metadata": {},
   "outputs": [
    {
     "name": "stdout",
     "output_type": "stream",
     "text": [
      "(500, 784)\n",
      "(500, 10)\n"
     ]
    }
   ],
   "source": [
    "print(X_batch.shape)\n",
    "print(Y_batch.shape)"
   ]
  },
  {
   "cell_type": "code",
   "execution_count": null,
   "metadata": {
    "collapsed": true
   },
   "outputs": [],
   "source": []
  }
 ],
 "metadata": {
  "kernelspec": {
   "display_name": "Python 3",
   "language": "python",
   "name": "python3"
  },
  "language_info": {
   "codemirror_mode": {
    "name": "ipython",
    "version": 3
   },
   "file_extension": ".py",
   "mimetype": "text/x-python",
   "name": "python",
   "nbconvert_exporter": "python",
   "pygments_lexer": "ipython3",
   "version": "3.6.1"
  }
 },
 "nbformat": 4,
 "nbformat_minor": 2
}
