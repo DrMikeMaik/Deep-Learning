{
 "cells": [
  {
   "cell_type": "code",
   "execution_count": 1,
   "metadata": {},
   "outputs": [
    {
     "name": "stderr",
     "output_type": "stream",
     "text": [
      "/Users/michal/anaconda/lib/python3.6/site-packages/h5py/__init__.py:34: FutureWarning: Conversion of the second argument of issubdtype from `float` to `np.floating` is deprecated. In future, it will be treated as `np.float64 == np.dtype(float).type`.\n",
      "  from ._conv import register_converters as _register_converters\n"
     ]
    }
   ],
   "source": [
    "import numpy as np\n",
    "import pandas as pd\n",
    "import matplotlib.pyplot as plt\n",
    "import tensorflow as tf\n",
    "from sklearn.utils import shuffle"
   ]
  },
  {
   "cell_type": "code",
   "execution_count": 2,
   "metadata": {},
   "outputs": [],
   "source": [
    "df_train = pd.read_csv('../data/train.csv')"
   ]
  },
  {
   "cell_type": "code",
   "execution_count": 3,
   "metadata": {},
   "outputs": [
    {
     "data": {
      "image/png": "[encoded data removed]",
      "text/plain": [
       "<matplotlib.figure.Figure at 0x10e76b400>"
      ]
     },
     "metadata": {},
     "output_type": "display_data"
    },
    {
     "data": {
      "image/png": "[encoded data removed]",
      "text/plain": [
       "<matplotlib.figure.Figure at 0x127665e48>"
      ]
     },
     "metadata": {},
     "output_type": "display_data"
    },
    {
     "data": {
      "image/png": "[encoded data removed]",
      "text/plain": [
       "<matplotlib.figure.Figure at 0x12677d518>"
      ]
     },
     "metadata": {},
     "output_type": "display_data"
    },
    {
     "data": {
      "image/png": "[encoded data removed]",
      "text/plain": [
       "<matplotlib.figure.Figure at 0x137d4ee48>"
      ]
     },
     "metadata": {},
     "output_type": "display_data"
    },
    {
     "data": {
      "image/png": "[encoded data removed]",
      "text/plain": [
       "<matplotlib.figure.Figure at 0x137f20780>"
      ]
     },
     "metadata": {},
     "output_type": "display_data"
    }
   ],
   "source": [
    "# visualize random some random numbers from the MNIST dataset\n",
    "for i in range(5):\n",
    "    rand_num = np.random.randint(0, len(df_train))\n",
    "    label = df_train['label'].loc[rand_num]\n",
    "    pixels = df_train.loc[rand_num].drop('label').values\n",
    "    pixels = np.array(pixels, dtype='uint8')\n",
    "    pixels = pixels.reshape((28, 28))\n",
    "    plt.title('Label is {label}'.format(label=label))\n",
    "    plt.imshow(pixels, cmap='gray')\n",
    "    plt.show()"
   ]
  },
  {
   "cell_type": "code",
   "execution_count": 4,
   "metadata": {
    "collapsed": true
   },
   "outputs": [],
   "source": [
    "def error_rate(pred, target):\n",
    "    return np.mean(pred!=target)"
   ]
  },
  {
   "cell_type": "code",
   "execution_count": 5,
   "metadata": {
    "collapsed": true
   },
   "outputs": [],
   "source": [
    "def classification_rate(p, t):\n",
    "    return np.mean(p == t)"
   ]
  },
  {
   "cell_type": "code",
   "execution_count": 6,
   "metadata": {
    "collapsed": true
   },
   "outputs": [],
   "source": [
    "def ohe(labels):\n",
    "    ohe_lab = np.zeros((labels.shape[0], len(set(labels))))\n",
    "    for i in range(len(labels)):\n",
    "        ohe_lab[i, labels[i]] = 1\n",
    "    return ohe_lab     "
   ]
  },
  {
   "cell_type": "code",
   "execution_count": 7,
   "metadata": {
    "collapsed": true
   },
   "outputs": [],
   "source": [
    "X = df_train.drop('label', axis=1)/255\n",
    "X = X.values\n",
    "Y = pd.DataFrame(ohe(df_train['label']))\n",
    "Y = Y.values"
   ]
  },
  {
   "cell_type": "code",
   "execution_count": 8,
   "metadata": {},
   "outputs": [
    {
     "name": "stdout",
     "output_type": "stream",
     "text": [
      "(42000, 784)\n",
      "<class 'numpy.ndarray'>\n",
      "(42000, 10)\n",
      "<class 'numpy.ndarray'>\n"
     ]
    }
   ],
   "source": [
    "print(X.shape)\n",
    "print(type(X))\n",
    "print(Y.shape)\n",
    "print(type(Y))"
   ]
  },
  {
   "cell_type": "code",
   "execution_count": 9,
   "metadata": {
    "collapsed": true
   },
   "outputs": [],
   "source": [
    "max_iter = 20\n",
    "print_period = 10\n",
    "lr = 0.00004\n",
    "reg = 0.01"
   ]
  },
  {
   "cell_type": "code",
   "execution_count": 10,
   "metadata": {
    "collapsed": true
   },
   "outputs": [],
   "source": [
    "X_train = X[:-1000]\n",
    "Y_train = Y[:-1000]\n",
    "X_test = X[-1000:]\n",
    "Y_test = Y[-1000:]"
   ]
  },
  {
   "cell_type": "code",
   "execution_count": 11,
   "metadata": {
    "collapsed": true
   },
   "outputs": [],
   "source": [
    "N, D = X_train.shape\n",
    "batch_size = 500\n",
    "num_batches = N//batch_size"
   ]
  },
  {
   "cell_type": "code",
   "execution_count": 12,
   "metadata": {
    "collapsed": true
   },
   "outputs": [],
   "source": [
    "# hidden layer1 nodes\n",
    "M1 = 300\n",
    "# hidden layer2 nodes\n",
    "M2 = 100\n",
    "# output nodes\n",
    "K = 10\n",
    "# starting wieghts\n",
    "W1_init = np.random.randn(D, M1) / np.sqrt(D+M1)\n",
    "b1_init = np.zeros(M1)\n",
    "W2_init = np.random.randn(M1, M2) / np.sqrt(M1+M2)\n",
    "b2_init = np.zeros(M2)\n",
    "W3_init = np.random.randn(M2, K) / np.sqrt(M2+K)\n",
    "b3_init = np.zeros(K)"
   ]
  },
  {
   "cell_type": "code",
   "execution_count": 13,
   "metadata": {
    "collapsed": true
   },
   "outputs": [],
   "source": [
    "# get TF variables for the inputs, X and targets T\n",
    "ftX = tf.placeholder(tf.float32, shape=(None, D), name='X')\n",
    "ftT = tf.placeholder(tf.float32, shape=(None, K), name='T')"
   ]
  },
  {
   "cell_type": "code",
   "execution_count": 14,
   "metadata": {
    "collapsed": true
   },
   "outputs": [],
   "source": [
    "# get TF variables wieghts and biases\n",
    "W1 = tf.Variable(W1_init.astype(np.float32))\n",
    "b1 = tf.Variable(b1_init.astype(np.float32))\n",
    "W2 = tf.Variable(W2_init.astype(np.float32))\n",
    "b2 = tf.Variable(b2_init.astype(np.float32))\n",
    "W3 = tf.Variable(W3_init.astype(np.float32))\n",
    "b3 = tf.Variable(b3_init.astype(np.float32))"
   ]
  },
  {
   "cell_type": "code",
   "execution_count": 15,
   "metadata": {
    "collapsed": true
   },
   "outputs": [],
   "source": [
    "Z1 = tf.nn.relu(tf.matmul(ftX, W1)+b1)\n",
    "Z2 = tf.nn.relu(tf.matmul(Z1, W2)+b2)\n",
    "Yish = tf.matmul(Z2, W3)+b3"
   ]
  },
  {
   "cell_type": "code",
   "execution_count": 16,
   "metadata": {
    "collapsed": true
   },
   "outputs": [],
   "source": [
    "rcost = reg*sum([tf.nn.l2_loss(W1), tf.nn.l2_loss(b1), \n",
    "                 tf.nn.l2_loss(W2), tf.nn.l2_loss(b2), \n",
    "                 tf.nn.l2_loss(W3), tf.nn.l2_loss(b3)])\n",
    "cost = tf.reduce_sum(tf.nn.softmax_cross_entropy_with_logits_v2(labels=ftT, logits=Yish)) + rcost"
   ]
  },
  {
   "cell_type": "code",
   "execution_count": 17,
   "metadata": {
    "collapsed": true
   },
   "outputs": [],
   "source": [
    "train_op = tf.train.RMSPropOptimizer(lr, decay=0.99, momentum=0.9).minimize(cost)"
   ]
  },
  {
   "cell_type": "code",
   "execution_count": 18,
   "metadata": {
    "collapsed": true
   },
   "outputs": [],
   "source": [
    "pred = tf.argmax(Yish, 1)"
   ]
  },
  {
   "cell_type": "code",
   "execution_count": 19,
   "metadata": {},
   "outputs": [
    {
     "name": "stdout",
     "output_type": "stream",
     "text": [
      "0 0 2299.971 0.886\n",
      "0 10 2166.7993 0.541\n",
      "0 20 1896.4388 0.365\n",
      "0 30 1468.2745 0.259\n",
      "0 40 1023.49457 0.222\n",
      "0 50 735.4177 0.172\n",
      "0 60 591.1703 0.155\n",
      "0 70 514.20685 0.14\n",
      "0 80 471.31018 0.124\n",
      "1 0 466.6052 0.124\n",
      "1 10 425.74664 0.107\n",
      "1 20 409.83176 0.117\n",
      "1 30 395.74515 0.104\n",
      "1 40 375.06665 0.1\n",
      "1 50 360.08792 0.101\n",
      "1 60 347.96994 0.095\n",
      "1 70 345.28384 0.093\n",
      "1 80 331.1735 0.097\n",
      "2 0 330.648 0.095\n",
      "2 10 328.43726 0.089\n",
      "2 20 320.6653 0.09\n",
      "2 30 311.19116 0.086\n",
      "2 40 307.98727 0.09\n",
      "2 50 299.79974 0.084\n",
      "2 60 295.5384 0.09\n",
      "2 70 288.6923 0.082\n",
      "2 80 277.34924 0.083\n",
      "3 0 277.8478 0.081\n",
      "3 10 278.43832 0.08\n",
      "3 20 270.5294 0.074\n",
      "3 30 261.60992 0.081\n",
      "3 40 266.0707 0.076\n",
      "3 50 257.86493 0.075\n",
      "3 60 257.38254 0.076\n",
      "3 70 244.63167 0.069\n",
      "3 80 242.30225 0.073\n",
      "4 0 242.99724 0.073\n",
      "4 10 242.78535 0.067\n",
      "4 20 233.3611 0.069\n",
      "4 30 227.24359 0.066\n",
      "4 40 229.93121 0.067\n",
      "4 50 222.05775 0.06\n",
      "4 60 215.41368 0.058\n",
      "4 70 218.9056 0.057\n",
      "4 80 209.326 0.057\n",
      "5 0 212.39519 0.058\n",
      "5 10 203.08025 0.055\n",
      "5 20 201.80391 0.057\n",
      "5 30 200.40903 0.058\n",
      "5 40 190.29047 0.052\n",
      "5 50 188.2247 0.051\n",
      "5 60 189.0355 0.05\n",
      "5 70 191.82468 0.049\n",
      "5 80 178.93118 0.052\n",
      "6 0 178.70035 0.052\n",
      "6 10 180.72206 0.048\n",
      "6 20 172.44699 0.051\n",
      "6 30 168.0057 0.046\n",
      "6 40 173.62401 0.045\n",
      "6 50 169.1464 0.05\n",
      "6 60 164.1014 0.044\n",
      "6 70 158.55377 0.043\n",
      "6 80 160.72522 0.048\n",
      "7 0 161.22418 0.047\n",
      "7 10 154.29407 0.045\n",
      "7 20 154.41882 0.043\n",
      "7 30 154.8293 0.043\n",
      "7 40 144.57014 0.04\n",
      "7 50 147.57106 0.042\n",
      "7 60 152.41663 0.043\n",
      "7 70 150.56378 0.047\n",
      "7 80 150.0239 0.042\n",
      "8 0 148.69164 0.04\n",
      "8 10 146.41623 0.042\n",
      "8 20 145.09315 0.04\n",
      "8 30 138.54402 0.041\n",
      "8 40 137.7264 0.042\n",
      "8 50 130.93094 0.041\n",
      "8 60 133.39748 0.041\n",
      "8 70 128.27585 0.039\n",
      "8 80 131.84772 0.042\n",
      "9 0 130.28114 0.039\n",
      "9 10 133.14742 0.043\n",
      "9 20 122.78258 0.036\n",
      "9 30 131.36484 0.04\n",
      "9 40 133.40433 0.042\n",
      "9 50 129.10973 0.044\n",
      "9 60 121.2848 0.043\n",
      "9 70 117.98478 0.039\n",
      "9 80 122.41031 0.038\n",
      "10 0 118.50431 0.039\n",
      "10 10 120.423164 0.037\n",
      "10 20 116.993454 0.039\n",
      "10 30 112.1133 0.038\n",
      "10 40 117.11054 0.037\n",
      "10 50 119.846924 0.035\n",
      "10 60 119.93073 0.037\n",
      "10 70 114.958305 0.038\n",
      "10 80 119.44246 0.036\n",
      "11 0 118.464226 0.036\n",
      "11 10 111.240654 0.038\n",
      "11 20 118.47852 0.039\n",
      "11 30 106.75866 0.034\n",
      "11 40 109.20598 0.038\n",
      "11 50 109.60103 0.034\n",
      "11 60 115.66325 0.037\n",
      "11 70 122.796936 0.042\n",
      "11 80 103.82311 0.034\n",
      "12 0 106.769646 0.035\n",
      "12 10 102.73077 0.033\n",
      "12 20 112.80544 0.037\n",
      "12 30 104.80931 0.036\n",
      "12 40 104.776 0.034\n",
      "12 50 102.124435 0.034\n",
      "12 60 101.4506 0.033\n",
      "12 70 105.82222 0.034\n",
      "12 80 101.69216 0.031\n",
      "13 0 100.47954 0.033\n",
      "13 10 105.33314 0.038\n",
      "13 20 103.09092 0.031\n",
      "13 30 101.76883 0.033\n",
      "13 40 104.52441 0.034\n",
      "13 50 96.83225 0.029\n",
      "13 60 97.92267 0.033\n",
      "13 70 96.27636 0.033\n",
      "13 80 99.38427 0.029\n",
      "14 0 100.51008 0.029\n",
      "14 10 98.0611 0.032\n",
      "14 20 92.28343 0.026\n",
      "14 30 94.434906 0.032\n",
      "14 40 100.095345 0.032\n",
      "14 50 87.04517 0.027\n",
      "14 60 103.43556 0.03\n",
      "14 70 91.23696 0.03\n",
      "14 80 96.40859 0.031\n",
      "15 0 99.21747 0.033\n",
      "15 10 92.68252 0.03\n",
      "15 20 95.74705 0.03\n",
      "15 30 107.85869 0.034\n",
      "15 40 90.78221 0.027\n",
      "15 50 97.01676 0.03\n",
      "15 60 95.69784 0.027\n",
      "15 70 92.76472 0.033\n",
      "15 80 91.99085 0.032\n",
      "16 0 88.150665 0.032\n",
      "16 10 89.81335 0.028\n",
      "16 20 93.30538 0.027\n",
      "16 30 94.32023 0.03\n",
      "16 40 99.63086 0.028\n",
      "16 50 86.50177 0.025\n",
      "16 60 106.63837 0.032\n",
      "16 70 85.012825 0.027\n",
      "16 80 91.30598 0.028\n",
      "17 0 93.46229 0.03\n",
      "17 10 92.97447 0.03\n",
      "17 20 90.86598 0.028\n",
      "17 30 89.91158 0.03\n",
      "17 40 94.10643 0.028\n",
      "17 50 86.73399 0.026\n",
      "17 60 95.672134 0.03\n",
      "17 70 90.28779 0.027\n",
      "17 80 93.46027 0.028\n",
      "18 0 90.49719 0.027\n",
      "18 10 88.2787 0.025\n",
      "18 20 88.46788 0.026\n",
      "18 30 93.544846 0.028\n",
      "18 40 83.755974 0.024\n",
      "18 50 90.422295 0.025\n",
      "18 60 88.27403 0.028\n",
      "18 70 92.61456 0.027\n",
      "18 80 90.24831 0.025\n",
      "19 0 89.10975 0.026\n",
      "19 10 87.02691 0.03\n",
      "19 20 96.106186 0.026\n",
      "19 30 101.241325 0.028\n",
      "19 40 90.9054 0.028\n",
      "19 50 88.61715 0.027\n",
      "19 60 94.412125 0.033\n",
      "19 70 86.239716 0.027\n",
      "19 80 92.43129 0.027\n"
     ]
    }
   ],
   "source": [
    "LL = []\n",
    "error = []\n",
    "init = tf.global_variables_initializer()\n",
    "with tf.Session() as sess:\n",
    "    sess.run(init)\n",
    "    for i in range(max_iter):\n",
    "        X_train, Y_train = shuffle(X_train, Y_train)\n",
    "        for j in range(num_batches):\n",
    "            X_batch = X_train[(j*batch_size):(j*batch_size+batch_size)]\n",
    "            Y_batch = Y_train[(j*batch_size):(j*batch_size+batch_size)]\n",
    "        \n",
    "            sess.run(train_op, feed_dict = {ftX: X_batch, ftT: Y_batch})\n",
    "            if j % print_period == 0:\n",
    "                cost_val = sess.run(cost, feed_dict={ftX: X_test, ftT: Y_test})\n",
    "                pred_val = sess.run(pred, feed_dict={ftX: X_test})\n",
    "                err = error_rate(pred_val, Y_test.argmax(axis = 1))\n",
    "                print(i,j,cost_val,err)\n",
    "                LL.append(cost_val)\n",
    "                error.append(err)"
   ]
  },
  {
   "cell_type": "code",
   "execution_count": 20,
   "metadata": {},
   "outputs": [
    {
     "data": {
      "image/png": "[encoded data removed]",
      "text/plain": [
       "<matplotlib.figure.Figure at 0x126a63cf8>"
      ]
     },
     "metadata": {},
     "output_type": "display_data"
    }
   ],
   "source": [
    "plt.plot(LL)\n",
    "plt.show()"
   ]
  },
  {
   "cell_type": "code",
   "execution_count": 21,
   "metadata": {},
   "outputs": [
    {
     "data": {
      "image/png": "[encoded data removed]",
      "text/plain": [
       "<matplotlib.figure.Figure at 0x127436160>"
      ]
     },
     "metadata": {},
     "output_type": "display_data"
    }
   ],
   "source": [
    "plt.plot(error)\n",
    "plt.show()"
   ]
  },
  {
   "cell_type": "code",
   "execution_count": null,
   "metadata": {
    "collapsed": true
   },
   "outputs": [],
   "source": []
  }
 ],
 "metadata": {
  "kernelspec": {
   "display_name": "Python 3",
   "language": "python",
   "name": "python3"
  },
  "language_info": {
   "codemirror_mode": {
    "name": "ipython",
    "version": 3
   },
   "file_extension": ".py",
   "mimetype": "text/x-python",
   "name": "python",
   "nbconvert_exporter": "python",
   "pygments_lexer": "ipython3",
   "version": "3.6.1"
  }
 },
 "nbformat": 4,
 "nbformat_minor": 2
}
